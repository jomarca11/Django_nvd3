{
 "cells": [
  {
   "cell_type": "markdown",
   "metadata": {},
   "source": [
    "# DESARROLLO DE VISUALIZACIÓN - PEC 3\n",
    "\n",
    "## Integrantes: Alejandro Sanz García y Rubén Cumbreño Juan\n"
   ]
  },
  {
   "cell_type": "markdown",
   "metadata": {},
   "source": [
    "## Link del dataset"
   ]
  },
  {
   "cell_type": "markdown",
   "metadata": {},
   "source": [
    "https://www.kaggle.com/zynicide/wine-reviews#winemag-data_first150k.csv"
   ]
  },
  {
   "cell_type": "markdown",
   "metadata": {},
   "source": [
    "### Requisitos"
   ]
  },
  {
   "cell_type": "markdown",
   "metadata": {},
   "source": [
    "Parte de análisis:\n",
    "- Jupyter Notebook\n",
    "- Python 3.X\n",
    "\n",
    "Parte web:\n",
    "- En principio deberia funcionar tanto en python 2.X como en 3.X (testeado en ambos)\n",
    "- Testeado en Chrome\n",
    "- Necesario tener instalado django 1.11 o superior (testeado con la 1.11.13)"
   ]
  },
  {
   "cell_type": "markdown",
   "metadata": {},
   "source": [
    "## Limpieza y Análisis de datos"
   ]
  },
  {
   "cell_type": "markdown",
   "metadata": {},
   "source": [
    "### Cabeceras"
   ]
  },
  {
   "cell_type": "markdown",
   "metadata": {},
   "source": [
    "- ''  '': El id del campo\n",
    "- country: el pais del vino\n",
    "- description: descripcion del vino\n",
    "- designacion: denominación de origen\n",
    "- points: puntos del vino\n",
    "- price: precio del vino\n",
    "- province: provincia del pais\n",
    "- region_1: primera region perteniciente al pais de ese vino\n",
    "- region_2: segunda region perteniciente al pais de ese vino\n",
    "- variety: tipo de vino\n",
    "- winery: viñedo al que pertenece"
   ]
  },
  {
   "cell_type": "markdown",
   "metadata": {},
   "source": [
    "Lo primero es ver la cantidad de datos que tenemos en el dataset y como se encuentran:"
   ]
  },
  {
   "cell_type": "code",
   "execution_count": 1,
   "metadata": {},
   "outputs": [
    {
     "name": "stdout",
     "output_type": "stream",
     "text": [
      "country\n",
      "Albania                       2\n",
      "Argentina                  5631\n",
      "Australia                  4957\n",
      "Austria                    3057\n",
      "Bosnia and Herzegovina        4\n",
      "Brazil                       25\n",
      "Bulgaria                     77\n",
      "Canada                      196\n",
      "Chile                      5816\n",
      "China                         3\n",
      "Croatia                      89\n",
      "Cyprus                       31\n",
      "Czech Republic                6\n",
      "Egypt                         3\n",
      "England                       9\n",
      "France                    21098\n",
      "Georgia                      43\n",
      "Germany                    2452\n",
      "Greece                      884\n",
      "Hungary                     231\n",
      "India                         8\n",
      "Israel                      630\n",
      "Italy                     23478\n",
      "Japan                         2\n",
      "Lebanon                      37\n",
      "Lithuania                     8\n",
      "Luxembourg                    9\n",
      "Macedonia                    16\n",
      "Mexico                       63\n",
      "Moldova                      71\n",
      "Montenegro                    2\n",
      "Morocco                      12\n",
      "New Zealand                3320\n",
      "Portugal                   5322\n",
      "Romania                     139\n",
      "Serbia                       14\n",
      "Slovakia                      3\n",
      "Slovenia                     94\n",
      "South Africa               2258\n",
      "South Korea                   4\n",
      "Spain                      8268\n",
      "Switzerland                   4\n",
      "Tunisia                       2\n",
      "Turkey                       52\n",
      "US                        62397\n",
      "US-France                     1\n",
      "Ukraine                       5\n",
      "Uruguay                      92\n",
      "dtype: int64\n"
     ]
    }
   ],
   "source": [
    "import pandas as pd\n",
    "import matplotlib.pyplot as plt\n",
    "\n",
    "\n",
    "df= pd.read_csv(\"winemag-data_first150k.csv\")\n",
    "\n",
    "vinos_pais = df[[\"country\"]].groupby(\"country\").size()\n",
    "\n",
    "print(vinos_pais)"
   ]
  },
  {
   "cell_type": "markdown",
   "metadata": {},
   "source": [
    "Observamos como muchos paises continen pocos vinos en esta base de datos, lo que provocaría la obtención de resultados engañosos. Por lo que decidimos quedarnos solo con los vinos de los paises con mas de 500 vinos"
   ]
  },
  {
   "cell_type": "code",
   "execution_count": 2,
   "metadata": {},
   "outputs": [
    {
     "name": "stdout",
     "output_type": "stream",
     "text": [
      "Paises finalmente incluidos en el analisis / vinos por pais\n",
      "country\n",
      "Argentina        5631\n",
      "Australia        4957\n",
      "Austria          3057\n",
      "Chile            5816\n",
      "France          21098\n",
      "Germany          2452\n",
      "Greece            884\n",
      "Israel            630\n",
      "Italy           23478\n",
      "New Zealand      3320\n",
      "Portugal         5322\n",
      "South Africa     2258\n",
      "Spain            8268\n",
      "US              62397\n",
      "dtype: int64\n"
     ]
    }
   ],
   "source": [
    "paises_muchos = vinos_pais[vinos_pais>500]\n",
    "paises = paises_muchos.index.values.tolist()\n",
    "df_wine = df[df.country.isin(paises)]\n",
    "vinos_paisf = df_wine[[\"country\"]].groupby(\"country\").size()\n",
    "\n",
    "print(\"Paises finalmente incluidos en el analisis / vinos por pais\")\n",
    "print(vinos_paisf)\n",
    "\n",
    "#Generamos csv para nuestra aplicacion\n",
    "vinos_paisf.to_csv('bbdd/vinos_por_pais.csv', encoding=\"utf-8\")"
   ]
  },
  {
   "cell_type": "markdown",
   "metadata": {},
   "source": [
    "Una vez filtrados los paises, procedemos al analisis de los datos"
   ]
  },
  {
   "cell_type": "markdown",
   "metadata": {},
   "source": [
    "##### Tipo de dato de nuestro dataset"
   ]
  },
  {
   "cell_type": "code",
   "execution_count": 3,
   "metadata": {},
   "outputs": [
    {
     "data": {
      "text/plain": [
       "Unnamed: 0       int64\n",
       "country         object\n",
       "description     object\n",
       "designation     object\n",
       "points           int64\n",
       "price          float64\n",
       "province        object\n",
       "region_1        object\n",
       "region_2        object\n",
       "variety         object\n",
       "winery          object\n",
       "dtype: object"
      ]
     },
     "execution_count": 3,
     "metadata": {},
     "output_type": "execute_result"
    }
   ],
   "source": [
    "df_wine.dtypes"
   ]
  },
  {
   "cell_type": "markdown",
   "metadata": {},
   "source": [
    "##### Vemos valores nulos de nuestro dataset"
   ]
  },
  {
   "cell_type": "code",
   "execution_count": 4,
   "metadata": {},
   "outputs": [
    {
     "data": {
      "text/plain": [
       "Unnamed: 0         0\n",
       "country            0\n",
       "description        0\n",
       "designation    45392\n",
       "points             0\n",
       "price          13658\n",
       "province           0\n",
       "region_1       23894\n",
       "region_2       88615\n",
       "variety            0\n",
       "winery             0\n",
       "dtype: int64"
      ]
     },
     "execution_count": 4,
     "metadata": {},
     "output_type": "execute_result"
    }
   ],
   "source": [
    "df_wine.isnull().sum()"
   ]
  },
  {
   "cell_type": "markdown",
   "metadata": {},
   "source": [
    "##### Vemos un resumen estadistico de los datos numéricos"
   ]
  },
  {
   "cell_type": "code",
   "execution_count": 5,
   "metadata": {},
   "outputs": [
    {
     "data": {
      "text/html": [
       "<div>\n",
       "<style>\n",
       "    .dataframe thead tr:only-child th {\n",
       "        text-align: right;\n",
       "    }\n",
       "\n",
       "    .dataframe thead th {\n",
       "        text-align: left;\n",
       "    }\n",
       "\n",
       "    .dataframe tbody tr th {\n",
       "        vertical-align: top;\n",
       "    }\n",
       "</style>\n",
       "<table border=\"1\" class=\"dataframe\">\n",
       "  <thead>\n",
       "    <tr style=\"text-align: right;\">\n",
       "      <th></th>\n",
       "      <th>Unnamed: 0</th>\n",
       "      <th>points</th>\n",
       "      <th>price</th>\n",
       "    </tr>\n",
       "  </thead>\n",
       "  <tbody>\n",
       "    <tr>\n",
       "      <th>count</th>\n",
       "      <td>149568.000000</td>\n",
       "      <td>149568.000000</td>\n",
       "      <td>135910.000000</td>\n",
       "    </tr>\n",
       "    <tr>\n",
       "      <th>mean</th>\n",
       "      <td>75510.535262</td>\n",
       "      <td>87.902118</td>\n",
       "      <td>33.190619</td>\n",
       "    </tr>\n",
       "    <tr>\n",
       "      <th>std</th>\n",
       "      <td>43547.364794</td>\n",
       "      <td>3.220441</td>\n",
       "      <td>36.343701</td>\n",
       "    </tr>\n",
       "    <tr>\n",
       "      <th>min</th>\n",
       "      <td>0.000000</td>\n",
       "      <td>80.000000</td>\n",
       "      <td>4.000000</td>\n",
       "    </tr>\n",
       "    <tr>\n",
       "      <th>25%</th>\n",
       "      <td>37843.750000</td>\n",
       "      <td>86.000000</td>\n",
       "      <td>16.000000</td>\n",
       "    </tr>\n",
       "    <tr>\n",
       "      <th>50%</th>\n",
       "      <td>75507.500000</td>\n",
       "      <td>88.000000</td>\n",
       "      <td>24.000000</td>\n",
       "    </tr>\n",
       "    <tr>\n",
       "      <th>75%</th>\n",
       "      <td>113250.250000</td>\n",
       "      <td>90.000000</td>\n",
       "      <td>40.000000</td>\n",
       "    </tr>\n",
       "    <tr>\n",
       "      <th>max</th>\n",
       "      <td>150929.000000</td>\n",
       "      <td>100.000000</td>\n",
       "      <td>2300.000000</td>\n",
       "    </tr>\n",
       "  </tbody>\n",
       "</table>\n",
       "</div>"
      ],
      "text/plain": [
       "          Unnamed: 0         points          price\n",
       "count  149568.000000  149568.000000  135910.000000\n",
       "mean    75510.535262      87.902118      33.190619\n",
       "std     43547.364794       3.220441      36.343701\n",
       "min         0.000000      80.000000       4.000000\n",
       "25%     37843.750000      86.000000      16.000000\n",
       "50%     75507.500000      88.000000      24.000000\n",
       "75%    113250.250000      90.000000      40.000000\n",
       "max    150929.000000     100.000000    2300.000000"
      ]
     },
     "execution_count": 5,
     "metadata": {},
     "output_type": "execute_result"
    }
   ],
   "source": [
    "df_wine.describe()"
   ]
  },
  {
   "cell_type": "markdown",
   "metadata": {},
   "source": [
    "##### Precio medio por pais:"
   ]
  },
  {
   "cell_type": "code",
   "execution_count": 6,
   "metadata": {},
   "outputs": [
    {
     "name": "stdout",
     "output_type": "stream",
     "text": [
      "Precios medios por País\n",
      "                  price\n",
      "country                \n",
      "France        45.619885\n",
      "Germany       39.011078\n",
      "Italy         37.547913\n",
      "US            33.653808\n",
      "Israel        31.304918\n",
      "Australia     31.258480\n",
      "Austria       31.192106\n",
      "Spain         27.048529\n",
      "Portugal      26.332615\n",
      "New Zealand   24.173290\n",
      "Greece        21.747706\n",
      "South Africa  21.130532\n",
      "Argentina     20.794881\n",
      "Chile         19.344780\n"
     ]
    }
   ],
   "source": [
    "grouped = df_wine[[\"country\",\"price\"]].groupby(\"country\")\n",
    "\n",
    "country_price_avg = grouped.mean().sort_values(by=\"price\", ascending=False)\n",
    "\n",
    "print(\"Precios medios por País\")\n",
    "print(country_price_avg)\n",
    "\n",
    "#Generamos csv para nuestra aplicacion\n",
    "country_price_avg.to_csv('bbdd/precio_medio.csv', encoding=\"utf-8\")"
   ]
  },
  {
   "cell_type": "markdown",
   "metadata": {},
   "source": [
    "##### Puntos medios por pais"
   ]
  },
  {
   "cell_type": "code",
   "execution_count": 7,
   "metadata": {},
   "outputs": [
    {
     "name": "stdout",
     "output_type": "stream",
     "text": [
      "Puntos medios por País\n",
      "                 points\n",
      "country                \n",
      "Austria       89.276742\n",
      "France        88.925870\n",
      "Germany       88.626427\n",
      "Italy         88.413664\n",
      "Portugal      88.057685\n",
      "Australia     87.892475\n",
      "US            87.818789\n",
      "New Zealand   87.554217\n",
      "South Africa  87.225421\n",
      "Israel        87.176190\n",
      "Spain         86.646589\n",
      "Chile         86.296768\n",
      "Greece        86.117647\n",
      "Argentina     85.996093\n"
     ]
    }
   ],
   "source": [
    "grouped_points= df_wine[[\"country\",\"points\"]].groupby(\"country\")\n",
    "country_points_avg = grouped_points.mean().sort_values(\"points\", ascending=False)\n",
    "\n",
    "print(\"Puntos medios por País\")\n",
    "print(country_points_avg)\n",
    "\n",
    "#Generamos csv para nuestra aplicacion\n",
    "country_points_avg.to_csv('bbdd/calidad_media.csv', encoding=\"utf-8\")"
   ]
  },
  {
   "cell_type": "markdown",
   "metadata": {},
   "source": [
    "##### Precio medio por puntuacion"
   ]
  },
  {
   "cell_type": "code",
   "execution_count": 8,
   "metadata": {},
   "outputs": [
    {
     "name": "stdout",
     "output_type": "stream",
     "text": [
      "\n",
      "Precio pedio por puntuación\n",
      "             price\n",
      "points            \n",
      "100     401.583333\n",
      "99      289.525000\n",
      "98      232.131579\n",
      "97      178.000000\n",
      "96      132.376991\n",
      "95      108.630034\n",
      "94       81.784451\n",
      "93       66.446115\n",
      "92       52.296379\n",
      "91       43.696013\n",
      "90       37.390133\n",
      "89       32.524210\n",
      "88       27.820850\n",
      "87       24.617444\n",
      "86       21.815653\n",
      "85       20.038074\n",
      "84       19.394845\n",
      "82       19.191667\n",
      "83       18.030959\n",
      "81       17.639551\n",
      "80       17.340672\n"
     ]
    }
   ],
   "source": [
    "grouped_price_rate= df_wine[[\"price\",\"points\"]].groupby(\"points\")\n",
    "\n",
    "price_rate= grouped_price_rate.mean().sort_values(by=\"price\",ascending=False)\n",
    "print(\"\")\n",
    "print(\"Precio pedio por puntuación\")\n",
    "print(price_rate)\n",
    "\n",
    "#Generamos csv para nuestra aplicacion\n",
    "price_rate.to_csv('bbdd/precio_medio_por_puntuacion.csv', encoding=\"utf-8\")"
   ]
  },
  {
   "cell_type": "markdown",
   "metadata": {},
   "source": [
    "##### Relacion calidad/precio por pais"
   ]
  },
  {
   "cell_type": "code",
   "execution_count": 9,
   "metadata": {},
   "outputs": [
    {
     "name": "stdout",
     "output_type": "stream",
     "text": [
      "Relación calidad-precio por País\n",
      "              calidad_precio\n",
      "country                     \n",
      "Chile             139.497608\n",
      "Argentina         135.856721\n",
      "Portugal          128.706695\n",
      "South Africa      124.502617\n",
      "Spain             121.360848\n",
      "Greece            112.211705\n",
      "Australia         104.200522\n",
      "New Zealand       100.776237\n",
      "Germany            88.354020\n",
      "Austria            86.540165\n",
      "France             86.156081\n",
      "Italy              85.730265\n",
      "Israel             85.345127\n",
      "US                 83.177723\n"
     ]
    },
    {
     "name": "stderr",
     "output_type": "stream",
     "text": [
      "C:\\Users\\JIMMY\\Anaconda3\\lib\\site-packages\\ipykernel_launcher.py:2: SettingWithCopyWarning: \n",
      "A value is trying to be set on a copy of a slice from a DataFrame.\n",
      "Try using .loc[row_indexer,col_indexer] = value instead\n",
      "\n",
      "See the caveats in the documentation: http://pandas.pydata.org/pandas-docs/stable/indexing.html#indexing-view-versus-copy\n",
      "  \n"
     ]
    }
   ],
   "source": [
    "calidad_precio= df_wine[\"points\"]/ (df_wine[\"price\"]* 100/max(df_wine[\"price\"]))\n",
    "df_wine[\"calidad_precio\"] = calidad_precio\n",
    "grouped_calidad_precio = df_wine[[\"country\",\"calidad_precio\"]].groupby(\"country\")\n",
    "quality_price = grouped_calidad_precio.mean().sort_values(\"calidad_precio\", ascending=False)\n",
    "\n",
    "print(\"Relación calidad-precio por País\")\n",
    "print(quality_price)"
   ]
  },
  {
   "cell_type": "markdown",
   "metadata": {},
   "source": [
    "Vamos a obtener los datos referentes a \"Israel\" usados para la web:"
   ]
  },
  {
   "cell_type": "code",
   "execution_count": 10,
   "metadata": {},
   "outputs": [
    {
     "name": "stderr",
     "output_type": "stream",
     "text": [
      "C:\\Users\\JIMMY\\Anaconda3\\lib\\site-packages\\ipykernel_launcher.py:3: SettingWithCopyWarning: \n",
      "A value is trying to be set on a copy of a slice from a DataFrame.\n",
      "Try using .loc[row_indexer,col_indexer] = value instead\n",
      "\n",
      "See the caveats in the documentation: http://pandas.pydata.org/pandas-docs/stable/indexing.html#indexing-view-versus-copy\n",
      "  This is separate from the ipykernel package so we can avoid doing imports until\n"
     ]
    }
   ],
   "source": [
    "#Todos los datos pertenecientes a Israel\n",
    "datos_israel = df_wine.loc[df['country'] == 'Israel']\n",
    "datos_israel['description'] = datos_israel['description'].str.replace('\\r\\n',' ')\n",
    "\n",
    "#Generamos csv para nuestra aplicacion (con separador '€' ya que no existe en nuestro conjunto y nos sirve para facilitar el proceso)\n",
    "datos_israel.to_csv('bbdd/data_israel.csv', sep='€', encoding=\"utf-8\")"
   ]
  },
  {
   "cell_type": "code",
   "execution_count": 11,
   "metadata": {
    "collapsed": true
   },
   "outputs": [],
   "source": [
    "#Provincias pertenecientes a Israel\n",
    "array_provincias_israel = datos_israel['province'].unique()\n",
    "provincias_israel = pd.DataFrame(array_provincias_israel)\n",
    "\n",
    "#Generamos csv para nuestra aplicacion\n",
    "provincias_israel.to_csv('bbdd/provincias_israel.csv', sep=';', header=False, encoding=\"utf-8\")"
   ]
  },
  {
   "cell_type": "markdown",
   "metadata": {},
   "source": [
    "Por último, realizaremos el coeficiente de Pearson para ver la correlación entre el precio y la puntuación"
   ]
  },
  {
   "cell_type": "code",
   "execution_count": 12,
   "metadata": {},
   "outputs": [
    {
     "name": "stdout",
     "output_type": "stream",
     "text": [
      "Coeficiente Pearson, P-valor\n",
      "(0.4356277058255496, 0.0)\n"
     ]
    }
   ],
   "source": [
    "from scipy import stats\n",
    "\n",
    "\n",
    "Pearson= stats.pearsonr(df_wine.dropna().price.tolist(), df_wine.dropna().points.tolist())\n",
    "print(\"Coeficiente Pearson, P-valor\")\n",
    "print(Pearson)"
   ]
  },
  {
   "cell_type": "markdown",
   "metadata": {},
   "source": [
    "Con el analisis del coeficiente de pearson obtenemos que existe un correlación positiva entre el precio y la puntucíon que obtienen los vinos, ademas podemos afirmar que esta correlación es estadisticamente significativa ya que el P-valor es 0"
   ]
  },
  {
   "cell_type": "markdown",
   "metadata": {
    "collapsed": true
   },
   "source": [
    "### Los csv generados son los que alimentarán nuestra aplicación como si fueran documentos o tablas de una bbdd"
   ]
  }
 ],
 "metadata": {
  "kernelspec": {
   "display_name": "Python 3",
   "language": "python",
   "name": "python3"
  },
  "language_info": {
   "codemirror_mode": {
    "name": "ipython",
    "version": 3
   },
   "file_extension": ".py",
   "mimetype": "text/x-python",
   "name": "python",
   "nbconvert_exporter": "python",
   "pygments_lexer": "ipython3",
   "version": "3.6.3"
  }
 },
 "nbformat": 4,
 "nbformat_minor": 2
}
